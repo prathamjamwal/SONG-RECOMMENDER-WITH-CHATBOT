{
 "cells": [
  {
   "cell_type": "code",
   "execution_count": 1,
   "id": "12809c16",
   "metadata": {},
   "outputs": [],
   "source": [
    "import nltk\n",
    "import numpy as np\n",
    "\n",
    "import torch\n",
    "import torch.nn as nn\n",
    "from torch.utils.data import Dataset, DataLoader"
   ]
  },
  {
   "cell_type": "code",
   "execution_count": 2,
   "id": "8e569073",
   "metadata": {},
   "outputs": [
    {
     "name": "stderr",
     "output_type": "stream",
     "text": [
      "[nltk_data] Downloading package punkt to\n",
      "[nltk_data]     C:\\Users\\prath\\AppData\\Roaming\\nltk_data...\n",
      "[nltk_data]   Package punkt is already up-to-date!\n"
     ]
    },
    {
     "data": {
      "text/plain": [
       "True"
      ]
     },
     "execution_count": 2,
     "metadata": {},
     "output_type": "execute_result"
    }
   ],
   "source": [
    "nltk.download('punkt')"
   ]
  },
  {
   "cell_type": "code",
   "execution_count": 3,
   "id": "a038fa22",
   "metadata": {},
   "outputs": [],
   "source": [
    "from nltk.stem.porter import PorterStemmer\n",
    "stemmer = PorterStemmer()"
   ]
  },
  {
   "cell_type": "code",
   "execution_count": 4,
   "id": "f8442da2",
   "metadata": {},
   "outputs": [],
   "source": [
    "def tokenize(sentence):\n",
    "    return nltk.word_tokenize(sentence)"
   ]
  },
  {
   "cell_type": "code",
   "execution_count": 5,
   "id": "4662863f",
   "metadata": {},
   "outputs": [],
   "source": [
    "def stem(word):\n",
    "    return stemmer.stem(word.lower())"
   ]
  },
  {
   "cell_type": "code",
   "execution_count": 6,
   "id": "153ec58f",
   "metadata": {},
   "outputs": [],
   "source": [
    "def bagOfWords(tokenizeSentence,allWords):\n",
    "    tokenizeSentence = [stem(w) for w in tokenizeSentence]\n",
    "    \n",
    "    bag = np.zeros(len(allWords), dtype = np.float32)\n",
    "    for idx,w in enumerate(allWords):\n",
    "        if w in tokenizeSentence:\n",
    "            bag[idx] = 1.0\n",
    "\n",
    "    return bag"
   ]
  },
  {
   "cell_type": "code",
   "execution_count": 7,
   "id": "6fec8894",
   "metadata": {},
   "outputs": [
    {
     "name": "stdout",
     "output_type": "stream",
     "text": [
      "How are you\n",
      "['How', 'are', 'you']\n"
     ]
    }
   ],
   "source": [
    "a = \"How are you\"\n",
    "print(a)\n",
    "print(tokenize(a))\n"
   ]
  },
  {
   "cell_type": "code",
   "execution_count": 8,
   "id": "a97dd51e",
   "metadata": {},
   "outputs": [
    {
     "name": "stdout",
     "output_type": "stream",
     "text": [
      "['univers', 'univers', 'univers']\n"
     ]
    }
   ],
   "source": [
    "word = ['universe','universeity','universeities']\n",
    "\n",
    "s = [stem(w) for w in word]\n",
    "print(s)"
   ]
  },
  {
   "cell_type": "code",
   "execution_count": 9,
   "id": "f6a997d9",
   "metadata": {},
   "outputs": [
    {
     "data": {
      "text/plain": [
       "array([1., 0., 1., 0., 1., 1., 0.], dtype=float32)"
      ]
     },
     "execution_count": 9,
     "metadata": {},
     "output_type": "execute_result"
    }
   ],
   "source": [
    "s = [\"hello\",\"how\",\"are\",\"you\"]\n",
    "w = [\"hello\",\"bye\",\"how\",\"see\",\"are\",\"you\",\"soon\"]\n",
    "\n",
    "bagOfWords(s,w)"
   ]
  },
  {
   "cell_type": "code",
   "execution_count": 10,
   "id": "1c51767d",
   "metadata": {},
   "outputs": [],
   "source": [
    "import json"
   ]
  },
  {
   "cell_type": "code",
   "execution_count": 11,
   "id": "ce2a3221",
   "metadata": {},
   "outputs": [],
   "source": [
    "with open('intents.json','r') as f:\n",
    "    intents = json.load(f)\n",
    "    \n",
    "#print(intents)"
   ]
  },
  {
   "cell_type": "code",
   "execution_count": 12,
   "id": "afa0c66a",
   "metadata": {},
   "outputs": [],
   "source": [
    "allWords = []\n",
    "tags = []\n",
    "xy = []\n",
    "for intent in intents['intents']:\n",
    "    tag = intent['tag']\n",
    "    tags.append(tag)\n",
    "    \n",
    "    for pattern in intent['patterns']:\n",
    "        w = tokenize(pattern)\n",
    "        allWords.extend(w)\n",
    "        xy.append((w,tag))\n",
    "\n",
    "#print(allWords)"
   ]
  },
  {
   "cell_type": "code",
   "execution_count": 13,
   "id": "8b2cdf0a",
   "metadata": {},
   "outputs": [],
   "source": [
    "ignoreWords = ['?','!','.',',']\n",
    "allWords = [stem(w) for w in allWords if w not in ignoreWords]\n",
    "#print(allWords)"
   ]
  },
  {
   "cell_type": "code",
   "execution_count": 14,
   "id": "cb50e997",
   "metadata": {},
   "outputs": [],
   "source": [
    "allWords = sorted(set(allWords))\n",
    "tags = sorted(set(tags))"
   ]
  },
  {
   "cell_type": "code",
   "execution_count": 15,
   "id": "df1a37bc",
   "metadata": {},
   "outputs": [],
   "source": [
    "X_train = []\n",
    "y_train = []\n",
    "\n",
    "for (pattern_sentence, tag) in xy:\n",
    "    bag = bagOfWords(pattern_sentence , allWords)\n",
    "    X_train.append(bag) \n",
    "    \n",
    "    label = tags.index(tag)\n",
    "    y_train.append(label)\n",
    "    \n",
    "X_train = np.array(X_train)\n",
    "y_train = np.array(y_train)"
   ]
  },
  {
   "cell_type": "code",
   "execution_count": 16,
   "id": "ef8be4cb",
   "metadata": {},
   "outputs": [],
   "source": [
    " class ChatDataset(Dataset):\n",
    "        def __init__(self):\n",
    "            self.n_samples = len(X_train)\n",
    "            self.x_data = X_train\n",
    "            self.y_data = y_train\n",
    "            \n",
    "        def __getitem__(self, index):\n",
    "            return self.x_data[index],self.y_data[index]\n",
    "    \n",
    "        def __len__(self):\n",
    "            return self.n_samples"
   ]
  },
  {
   "cell_type": "code",
   "execution_count": 17,
   "id": "53fdab1c",
   "metadata": {},
   "outputs": [],
   "source": [
    "\n",
    "dataset = ChatDataset()\n",
    "train_loader = DataLoader(dataset, batch_size=8, shuffle=True,num_workers = 0)"
   ]
  },
  {
   "cell_type": "code",
   "execution_count": 18,
   "id": "a9632f67",
   "metadata": {},
   "outputs": [],
   "source": [
    "class NeuralNet(nn.Module):\n",
    "    def __init__(self,input_size, hidden_size,num_classes):\n",
    "        super(NeuralNet , self).__init__()\n",
    "        self.l1 = nn.Linear(input_size , hidden_size)\n",
    "        self.l2 = nn.Linear(hidden_size , hidden_size)\n",
    "        self.l3 = nn.Linear(hidden_size , num_classes)\n",
    "        \n",
    "    def forward(self,x):\n",
    "        out = self.l1(x)\n",
    "       # out = self.relu(out)\n",
    "        out = self.l2(out)\n",
    "        #out = self.relu(out)\n",
    "        out = self.l3(out)\n",
    "        \n",
    "        return out"
   ]
  },
  {
   "cell_type": "code",
   "execution_count": 19,
   "id": "9a156f60",
   "metadata": {},
   "outputs": [],
   "source": [
    "#hyper -para\n",
    "num_epochs = 1000\n",
    "\n",
    "learning_rate = 0.001\n",
    "batch_size = 8\n",
    "hidden_size = 8\n",
    "output_size = len(tags)\n",
    "input_size = len(X_train[0])"
   ]
  },
  {
   "cell_type": "code",
   "execution_count": 20,
   "id": "1f33b520",
   "metadata": {},
   "outputs": [],
   "source": [
    "device = torch.device('cuda' if torch.cuda.is_available() else 'cpu')"
   ]
  },
  {
   "cell_type": "code",
   "execution_count": 21,
   "id": "e65e4d2d",
   "metadata": {},
   "outputs": [],
   "source": [
    "model = NeuralNet(input_size, hidden_size,output_size)"
   ]
  },
  {
   "cell_type": "code",
   "execution_count": 22,
   "id": "4340e40f",
   "metadata": {},
   "outputs": [
    {
     "name": "stdout",
     "output_type": "stream",
     "text": [
      "Epoch 100/1000, Loss: 0.1080\n",
      "Epoch 200/1000, Loss: 0.0158\n",
      "Epoch 300/1000, Loss: 0.0037\n",
      "Epoch 400/1000, Loss: 0.0013\n",
      "Epoch 500/1000, Loss: 0.0010\n",
      "Epoch 600/1000, Loss: 0.0009\n",
      "Epoch 700/1000, Loss: 0.0002\n",
      "Epoch 800/1000, Loss: 0.0001\n",
      "Epoch 900/1000, Loss: 0.0000\n",
      "Epoch 1000/1000, Loss: 0.0000\n"
     ]
    }
   ],
   "source": [
    "# Loss and optimizer\n",
    "criterion = nn.CrossEntropyLoss()\n",
    "optimizer = torch.optim.Adam(model.parameters(), lr=learning_rate)\n",
    "\n",
    "# Train the model\n",
    "for epoch in range(num_epochs):\n",
    "    for (words, labels) in train_loader:\n",
    "        words = words.to(device)\n",
    "        labels = labels.to(device,torch.int64)\n",
    "        \n",
    "        # Forward pass\n",
    "        outputs = model(words)\n",
    "        # if y would be one-hot, we must apply\n",
    "        # labels = torch.max(labels, 1)[1]\n",
    "        loss = criterion(outputs, labels)\n",
    "        \n",
    "        # Backward and optimize\n",
    "        optimizer.zero_grad()\n",
    "        loss.backward()\n",
    "        optimizer.step()\n",
    "        \n",
    "    if (epoch+1) % 100 == 0:\n",
    "        print (f'Epoch {epoch+1}/{num_epochs}, Loss: {loss.item():.4f}')\n",
    "\n"
   ]
  },
  {
   "cell_type": "code",
   "execution_count": 23,
   "id": "652d93ad",
   "metadata": {},
   "outputs": [
    {
     "name": "stdout",
     "output_type": "stream",
     "text": [
      "training complete. file saved to data.pth\n"
     ]
    }
   ],
   "source": [
    "data = {\n",
    "\"model_state\": model.state_dict(),\n",
    "\"input_size\": input_size,\n",
    "\"hidden_size\": hidden_size,\n",
    "\"output_size\": output_size,\n",
    "\"all_words\": allWords,\n",
    "\"tags\": tags\n",
    "}\n",
    "\n",
    "FILE = \"data.pth\"\n",
    "torch.save(data, FILE)\n",
    "\n",
    "print(f'training complete. file saved to {FILE}')"
   ]
  },
  {
   "cell_type": "code",
   "execution_count": 24,
   "id": "6e354229",
   "metadata": {},
   "outputs": [],
   "source": [
    "import requests\n",
    "import spotipy\n",
    "from spotipy.oauth2 import SpotifyClientCredentials\n",
    "\n",
    "USER_AGENT = ' Chrome/91.0.4472.124'\n",
    "API_KEY = '12a82b9a63ef42d4a3cada5033795fb2'\n",
    "SPOTIFY_CLIENT_ID = '12a82b9a63ef42d4a3cada5033795fb2'\n",
    "SPOTIFY_CLIENT_SECRET = '677672a3303b46f28b4886aa92993b91'\n",
    "\n",
    "def lastfm_get(payload):\n",
    "    # define Last.fm headers and URL\n",
    "    lastfm_headers = {'user-agent': USER_AGENT}\n",
    "    lastfm_url = 'https://ws.audioscrobbler.com/2.0/'\n",
    "\n",
    "    # Add Last.fm API key and format to the payload\n",
    "    payload['api_key'] = API_KEY\n",
    "    payload['format'] = 'json'\n",
    "    payload['limit'] = 5\n",
    "\n",
    "    # Last.fm API request\n",
    "    lastfm_response = requests.get(lastfm_url, headers=lastfm_headers, params=payload)\n",
    "\n",
    "    # Spotify API authentication and setup\n",
    "    sp_auth_manager = SpotifyClientCredentials(client_id=SPOTIFY_CLIENT_ID, client_secret=SPOTIFY_CLIENT_SECRET)\n",
    "    sp = spotipy.Spotify(auth_manager=sp_auth_manager)\n",
    "\n",
    "    # Spotify API search\n",
    "    search_query = payload.get('track')\n",
    "    if search_query:\n",
    "        spotify_results = sp.search(q=search_query, type='track', limit=1)\n",
    "        # You can access Spotify track details from the 'spotify_results' variable\n",
    "\n",
    "    return lastfm_response\n"
   ]
  },
  {
   "cell_type": "code",
   "execution_count": 25,
   "id": "7c4544eb",
   "metadata": {},
   "outputs": [
    {
     "name": "stdout",
     "output_type": "stream",
     "text": [
      "Songs related to sad: ['SAD!', 'SAD GIRLZ LUV MONEY Remix (feat. Kali Uchis and Moliy)', 'Sad Girl', 'Sad But True (Remastered)', 'Sad Songs']\n",
      "Artist: XXXTENTACION\n"
     ]
    }
   ],
   "source": [
    "import spotipy\n",
    "from spotipy.oauth2 import SpotifyClientCredentials\n",
    "\n",
    "# Set up Spotify API credentials\n",
    "client_id = '12a82b9a63ef42d4a3cada5033795fb2'\n",
    "client_secret = '677672a3303b46f28b4886aa92993b91'\n",
    "\n",
    "# Create a Spotify API client\n",
    "auth_manager = SpotifyClientCredentials(client_id=client_id, client_secret=client_secret)\n",
    "sp = spotipy.Spotify(auth_manager=auth_manager)\n",
    "\n",
    "def getSongs(emotion):\n",
    "    # Search for tracks based on the given emotion word\n",
    "    results = sp.search(q=emotion, type='track', limit=5)\n",
    "    \n",
    "    songs = []\n",
    "    artist1 = None\n",
    "    \n",
    "    if 'tracks' in results and 'items' in results['tracks']:\n",
    "        tracks = results['tracks']['items']\n",
    "        \n",
    "        if len(tracks) > 0:\n",
    "            artist1 = tracks[0]['artists'][0]['name']\n",
    "        \n",
    "        for track in tracks:\n",
    "            song = track['name']\n",
    "            songs.append(song)\n",
    "    \n",
    "    return songs, artist1\n",
    "\n",
    "# Example usage\n",
    "emotion = 'sad'\n",
    "songs, artist = getSongs(emotion)\n",
    "print(f\"Songs related to {emotion}: {songs}\")\n",
    "print(f\"Artist: {artist}\")\n"
   ]
  },
  {
   "cell_type": "code",
   "execution_count": 26,
   "id": "923b9b0a",
   "metadata": {},
   "outputs": [
    {
     "data": {
      "text/plain": [
       "'XXXTENTACION'"
      ]
     },
     "execution_count": 26,
     "metadata": {},
     "output_type": "execute_result"
    }
   ],
   "source": [
    "artist  "
   ]
  },
  {
   "cell_type": "code",
   "execution_count": 27,
   "id": "3edd404a",
   "metadata": {},
   "outputs": [
    {
     "name": "stdout",
     "output_type": "stream",
     "text": [
      "Similar songs to 'Happier' by Ed Sheeran: ['Rain', 'Never Be the Same', 'Sorry', 'Everglow - Edit', 'Deep End']\n"
     ]
    }
   ],
   "source": [
    "import spotipy\n",
    "from spotipy.oauth2 import SpotifyClientCredentials\n",
    "\n",
    "\n",
    "\n",
    "# Create a Spotify API client\n",
    "auth_manager = SpotifyClientCredentials(client_id=client_id, client_secret=client_secret)\n",
    "sp = spotipy.Spotify(auth_manager=auth_manager)\n",
    "\n",
    "def getSimilarSongs(song, artist):\n",
    "    # Search for the input song and artist\n",
    "    results = sp.search(q=f\"track:{song} artist:{artist}\", type='track', limit=1)\n",
    "    \n",
    "    similar_songs = []\n",
    "    \n",
    "    if 'tracks' in results and 'items' in results['tracks']:\n",
    "        track = results['tracks']['items'][0]\n",
    "        track_id = track['id']\n",
    "        \n",
    "        # Get recommended tracks based on the input song\n",
    "        recommendations = sp.recommendations(seed_tracks=[track_id], limit=5)\n",
    "        \n",
    "        if 'tracks' in recommendations:\n",
    "            tracks = recommendations['tracks']\n",
    "            similar_songs = [track['name'] for track in tracks]\n",
    "    \n",
    "    return similar_songs\n",
    "\n",
    "# Example usage\n",
    "input_song = 'Happier'\n",
    "input_artist = 'Ed Sheeran'\n",
    "\n",
    "similar_songs = getSimilarSongs(input_song, input_artist)\n",
    "print(f\"Similar songs to '{input_song}' by {input_artist}: {similar_songs}\")\n"
   ]
  },
  {
   "cell_type": "code",
   "execution_count": 28,
   "id": "aac52691",
   "metadata": {},
   "outputs": [],
   "source": [
    "l = getSimilarSongs('Radioactive','Imagine Dragons')           #testing"
   ]
  },
  {
   "cell_type": "code",
   "execution_count": 29,
   "id": "817822b8",
   "metadata": {},
   "outputs": [
    {
     "data": {
      "text/plain": [
       "['Finish Line',\n",
       " 'Younger',\n",
       " 'Scars To Your Beautiful',\n",
       " 'Royals',\n",
       " 'LEGO Ninjago WEEKEND WHIP - The Ghost Whip Remix']"
      ]
     },
     "execution_count": 29,
     "metadata": {},
     "output_type": "execute_result"
    }
   ],
   "source": [
    "l              "
   ]
  },
  {
   "cell_type": "code",
   "execution_count": 30,
   "id": "34f7a3aa",
   "metadata": {},
   "outputs": [
    {
     "name": "stdout",
     "output_type": "stream",
     "text": [
      "Let's chat! (type 'quit' to exit)\n"
     ]
    }
   ],
   "source": [
    "import random \n",
    "import torch\n",
    "import json\n",
    "import torch.nn as nn\n",
    "\n",
    "\n",
    "device = torch.device('cuda' if torch.cuda.is_available() else 'cpu')\n",
    "\n",
    "with open('intents.json', 'r') as json_data:\n",
    "    intents = json.load(json_data)\n",
    "\n",
    "FILE = \"data.pth\"\n",
    "data = torch.load(FILE)\n",
    "\n",
    "input_size = data[\"input_size\"]\n",
    "hidden_size = data[\"hidden_size\"]\n",
    "output_size = data[\"output_size\"]\n",
    "all_words = data['all_words']\n",
    "tags = data['tags']\n",
    "model_state = data[\"model_state\"]\n",
    "\n",
    "model = NeuralNet(input_size, hidden_size, output_size).to(device)\n",
    "model.load_state_dict(model_state)\n",
    "model.eval()\n",
    "\n",
    "\n",
    "bot_name = \"Bot\"\n",
    "print(\"Let's chat! (type 'quit' to exit)\")\n",
    "def get_response(msg):\n",
    "    \n",
    "    \n",
    "    # tone analyse\n",
    "    \n",
    "    \n",
    "\n",
    "        #print('songs:',song,'similar:',similarSongs )\n",
    "    \n",
    "    sentence = tokenize(msg)\n",
    "    X = bagOfWords(sentence, all_words)\n",
    "    X = X.reshape(1, X.shape[0])\n",
    "    X = torch.from_numpy(X).to(device)\n",
    "\n",
    "    output = model(X)\n",
    "    _, predicted = torch.max(output, dim=1)\n",
    "\n",
    "    tag = tags[predicted.item()]\n",
    "\n",
    "    probs = torch.softmax(output, dim=1)\n",
    "    prob = probs[0][predicted.item()]\n",
    "    if prob.item() > 0.75:\n",
    "        for intent in intents['intents']:\n",
    "            if tag == intent[\"tag\"]:\n",
    "                return random.choice(intent['responses'])\n",
    "               \n",
    "    return \"I do not understand...\""
   ]
  },
  {
   "cell_type": "code",
   "execution_count": 31,
   "id": "1d57189c",
   "metadata": {},
   "outputs": [],
   "source": [
    "def spotify_function(chat):\n",
    "    # Initialize the Spotify API client\n",
    "    client_credentials_manager = SpotifyClientCredentials(client_id='12a82b9a63ef42d4a3cada5033795fb2', client_secret='677672a3303b46f28b4886aa92993b91')\n",
    "    sp = spotipy.Spotify(client_credentials_manager=client_credentials_manager)\n",
    "    \n",
    "    # Use the Spotify API to search for tracks based on the chat message\n",
    "    # Replace with your code to interact with the Spotify API and retrieve the desired response\n",
    "    results = sp.search(q=chat, type='track', limit=10)\n",
    "    \n",
    "    return results\n",
    "\n",
    "\n",
    "\n",
    "def process_spotify_response(response):\n",
    "    songs = []\n",
    "    artist = \"\"\n",
    "    \n",
    "    # Extract the relevant information from the Spotify API response\n",
    "    # Replace with your code to extract songs and artist from the response\n",
    "    for track in response['tracks']['items']:\n",
    "        songs.append(track['name'])\n",
    "    \n",
    "    if len(response['tracks']['items']) > 0:\n",
    "        artist = response['tracks']['items'][0]['artists'][0]['name']\n",
    "    \n",
    "    return songs, artist\n",
    "\n",
    "\n",
    "\n",
    "\n",
    "def recommend(msg):\n",
    "    chat = msg\n",
    "    \n",
    "    # Call the Spotify API function to get the desired response\n",
    "    # Replace with your code to interact with the Spotify API\n",
    "    spotify_response = spotify_function(chat)\n",
    "    \n",
    "    # Process the Spotify API response to extract the relevant information\n",
    "    # Replace with your code to extract songs and artist from the Spotify response\n",
    "    songs, artist = process_spotify_response(spotify_response)\n",
    "    \n",
    "    recommended_songs = songs[:5]  # Get the top 5 songs based on the retrieved information\n",
    "    \n",
    "    # Get similar songs for the first song in the list\n",
    "    if len(recommended_songs) > 0:\n",
    "        similar_songs = getSimilarSongs(recommended_songs[0], artist)  # Replace with your function to get similar songs\n",
    "        recommended_songs.extend(similar_songs)  # Append similar songs to the recommended songs\n",
    "    \n",
    "    return recommended_songs\n",
    "\n",
    "\n"
   ]
  },
  {
   "cell_type": "code",
   "execution_count": 32,
   "id": "ac52ffb9",
   "metadata": {},
   "outputs": [
    {
     "data": {
      "text/plain": [
       "['Comedy',\n",
       " 'Comedy',\n",
       " 'Stand Up Comedy',\n",
       " 'Comedy!',\n",
       " 'Comedy & Tragedy',\n",
       " '地獄でなぜ悪い',\n",
       " '踊り子',\n",
       " 'たぶんMaybe明治 feat. あ、たぎれんたろう',\n",
       " 'Never Fear',\n",
       " 'Habit']"
      ]
     },
     "execution_count": 32,
     "metadata": {},
     "output_type": "execute_result"
    }
   ],
   "source": [
    "recommend('comedy')"
   ]
  },
  {
   "cell_type": "code",
   "execution_count": 33,
   "id": "0b530ed5",
   "metadata": {},
   "outputs": [],
   "source": [
    "from tkinter import *\n",
    "#from chat import get_response, bot_name\n",
    "#7618471758\n",
    "BG_GRAY = \"#FFFFCC\"\n",
    "BG_COLOR = \"#808080\"\n",
    "TEXT_COLOR = \"#EAECEE\"\n",
    "bot_name='bot'\n",
    "FONT = \"Calibri\"\n",
    "FONT_BOLD = \"Helvetica 13 bold\"\n",
    "\n",
    "class ChatApplication():\n",
    "    \n",
    "    def __init__(self):\n",
    "        self.window = Tk()\n",
    "        self._setup_main_window()\n",
    "        \n",
    "    def run(self):\n",
    "        self.window.mainloop()\n",
    "        \n",
    "    def _setup_main_window(self):\n",
    "        self.window.title(\"Chatbot Song Recommender\")\n",
    "        self.window.resizable(width=False, height=False)\n",
    "        self.window.configure(width=670, height=670, bg=BG_COLOR)\n",
    "        \n",
    "        # head label\n",
    "        head_label = Label(self.window, bg=BG_COLOR, fg=TEXT_COLOR,\n",
    "                           text=\"Welcome to Chatbot Song Friend !\", font=FONT_BOLD, pady=10)\n",
    "        head_label.place(relwidth=1)\n",
    "        \n",
    "        # tiny divider\n",
    "        \n",
    "        label2 = Label(self.window, bg=BG_GRAY,\n",
    "                           text=\"Chat\", font=FONT_BOLD, pady=10,relief='solid',borderwidth=4)\n",
    "        label2.place(relwidth=0.6,relheight=0.07,rely=0.08)\n",
    "\n",
    "        line = Label(self.window, width=450, bg=BG_GRAY)\n",
    "        line.place(relwidth=0.6, rely=0.16,relheight=0.01)\n",
    "        # text widget\n",
    "       \n",
    "        self.text_widget = Text(self.window, width=15, height=1, bg=BG_COLOR, fg=TEXT_COLOR,\n",
    "                                font=FONT, padx=5, pady=5)\n",
    "        self.text_widget.place(relheight=0.650, relwidth=0.6, rely=0.150)\n",
    "        self.text_widget.configure(cursor=\"arrow\", state=DISABLED)\n",
    "        \n",
    "        # scroll bar\n",
    "        scrollbar = Scrollbar(self.text_widget)\n",
    "        scrollbar.place(relheight=1, relx=0.960)\n",
    "        scrollbar.configure(command=self.text_widget.yview)\n",
    "        \n",
    "        label2 = Label(self.window, bg=BG_GRAY,\n",
    "                           text=\"Recommendations\", font=FONT_BOLD, pady=10,relief='solid',borderwidth=4)\n",
    "        label2.place(relx=0.6,relwidth=0.4,relheight=0.07,rely=0.08)\n",
    "    \n",
    "        self.text_widget2 = Text(self.window, width=15, height=1,bg=BG_COLOR, fg=TEXT_COLOR,\n",
    "                                font=FONT, padx=5, pady=5)\n",
    "        self.text_widget2.place(relheight=0.650, relwidth=0.4, relx=0.6, rely=0.150)\n",
    "        self.text_widget2.configure(cursor=\"arrow\", state=DISABLED)\n",
    "        \n",
    "        # bottom label\n",
    "        bottom_label = Label(self.window, bg=BG_GRAY, height=80)\n",
    "        bottom_label.place(relwidth=1, rely=0.800)\n",
    "        \n",
    "        # message entry box\n",
    "        self.msg_entry = Entry(bottom_label, bg=\"#000000\", fg=TEXT_COLOR, font=FONT)\n",
    "        self.msg_entry.place(relwidth=0.74, relheight=0.06, rely=0.008, relx=0.011)\n",
    "        self.msg_entry.focus()\n",
    "        self.msg_entry.bind(\"<Return>\", self._on_enter_pressed)\n",
    "        \n",
    "        # send button\n",
    "        send_button = Button(bottom_label, text=\"Send\",fg='#FFFFFF', font=FONT_BOLD, width=20, bg='#008000',\n",
    "                             command=lambda: self._on_enter_pressed(None),relief='solid',borderwidth=1)\n",
    "        send_button.place(relx=0.77, rely=0.008, relheight=0.06, relwidth=0.22)\n",
    "     \n",
    "    def print2(self,similar):\n",
    "        count=0\n",
    "        self.text_widget2.configure(state=NORMAL)\n",
    "        self.text_widget2.delete(1.0,END)\n",
    "       \n",
    "        self.text_widget2.insert(END,\"\\tRecommended\\n\")\n",
    "        for i in similar:\n",
    "            count+=1\n",
    "            if count==6:\n",
    "                self.text_widget2.insert(END,\"\\n\\n\\n\\tSimilar Songs\\n\")\n",
    "            if count<=5:\n",
    "                msg1 = f\" {count}:{i} \\n\"\n",
    "            else:\n",
    "                msg1 = f\"* {i} \\n\"\n",
    "            self.text_widget2.insert(END, msg1)\n",
    "        self.text_widget2.configure(state=DISABLED)\n",
    "\n",
    "    def _on_enter_pressed(self, event):\n",
    "        msg = self.msg_entry.get()\n",
    "        self._insert_message(msg, \"You\")\n",
    "        x=recommend(msg)\n",
    "        if x is not None:\n",
    "            self.print2(x)\n",
    "        \n",
    "        \n",
    "    def _insert_message(self, msg, sender):\n",
    "        if not msg:\n",
    "            return\n",
    "        \n",
    "        self.msg_entry.delete(0, END)\n",
    "        msg1 = f\"{sender}: {msg}\\n\\n\"\n",
    "        self.text_widget.configure(state=NORMAL)\n",
    "        self.text_widget.insert(END, msg1)\n",
    "        self.text_widget.configure(state=DISABLED)\n",
    "        \n",
    "        msg2 = f\"{bot_name}: {get_response(msg)}\\n\\n\"\n",
    "        self.text_widget.configure(state=NORMAL)\n",
    "        self.text_widget.insert(END, msg2)\n",
    "        self.text_widget.configure(state=DISABLED)\n",
    "        \n",
    "        self.text_widget.see(END)\n",
    "        #block2\n",
    "      \n",
    "             \n",
    "        \n",
    "if __name__ == \"__main__\":\n",
    "    app = ChatApplication()\n",
    "    app.run()"
   ]
  },
  {
   "cell_type": "code",
   "execution_count": null,
   "id": "8d10faae",
   "metadata": {},
   "outputs": [],
   "source": []
  }
 ],
 "metadata": {
  "kernelspec": {
   "display_name": "Python 3 (ipykernel)",
   "language": "python",
   "name": "python3"
  },
  "language_info": {
   "codemirror_mode": {
    "name": "ipython",
    "version": 3
   },
   "file_extension": ".py",
   "mimetype": "text/x-python",
   "name": "python",
   "nbconvert_exporter": "python",
   "pygments_lexer": "ipython3",
   "version": "3.10.2"
  }
 },
 "nbformat": 4,
 "nbformat_minor": 5
}
